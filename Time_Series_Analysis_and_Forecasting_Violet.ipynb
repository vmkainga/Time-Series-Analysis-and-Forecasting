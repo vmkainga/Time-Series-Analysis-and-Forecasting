{
  "nbformat": 4,
  "nbformat_minor": 0,
  "metadata": {
    "kernelspec": {
      "display_name": "Python 3",
      "language": "python",
      "name": "python3"
    },
    "language_info": {
      "codemirror_mode": {
        "name": "ipython",
        "version": 3
      },
      "file_extension": ".py",
      "mimetype": "text/x-python",
      "name": "python",
      "nbconvert_exporter": "python",
      "pygments_lexer": "ipython3",
      "version": "3.7.4"
    },
    "colab": {
      "name": "Time Series Analysis and Forecasting-Violet",
      "provenance": [],
      "collapsed_sections": [],
      "include_colab_link": true
    }
  },
  "cells": [
    {
      "cell_type": "markdown",
      "metadata": {
        "id": "view-in-github",
        "colab_type": "text"
      },
      "source": [
        "<a href=\"https://colab.research.google.com/github/vmkainga/Time-Series-Analysis-and-Forecasting/blob/main/Time_Series_Analysis_and_Forecasting_Violet.ipynb\" target=\"_parent\"><img src=\"https://colab.research.google.com/assets/colab-badge.svg\" alt=\"Open In Colab\"/></a>"
      ]
    },
    {
      "cell_type": "markdown",
      "metadata": {
        "id": "IcGUDoSkBiT4"
      },
      "source": [
        "# <font color='#2F4F4F'>1. Defining the Question</font>"
      ]
    },
    {
      "cell_type": "markdown",
      "metadata": {
        "id": "6sg3Sq-kBiT5"
      },
      "source": [
        "### a) Specifying the Data Analysis Question\n",
        "\n",
        "Build a model to predict the number of taxi orders for the next hour at airports"
      ]
    },
    {
      "cell_type": "markdown",
      "metadata": {
        "id": "54AGppS1BiT6"
      },
      "source": [
        "### b) Defining the Metric for Success\n",
        "\n",
        "The metric we will use to evaluate our model is RMSE score."
      ]
    },
    {
      "cell_type": "markdown",
      "metadata": {
        "id": "In67Zlg2BiT7"
      },
      "source": [
        "### c) Understanding the Context \n",
        "\n",
        "Sweet Lift Taxi company has collected historical data on taxi orders at airports. To attract more\n",
        "drivers during peak hours, we need to predict the number of taxi orders for the next hour. Build a\n",
        "model for such a prediction.\n",
        "The RMSE metric on the test set should not be more than 48."
      ]
    },
    {
      "cell_type": "markdown",
      "metadata": {
        "id": "VME7R5U9BiT8"
      },
      "source": [
        "### d) Recording the Experimental Design\n",
        "\n",
        "* Defining the Research Question\n",
        "* Data Importation\n",
        "* Data Exploration\n",
        "* Data Cleaning\n",
        "* Data Analysis \n",
        "* Data Preparation\n",
        "* Data Modeling\n",
        "* Model Evaluation\n",
        "* Challenging your Solution\n",
        "* Recommendations / Conclusion "
      ]
    },
    {
      "cell_type": "markdown",
      "metadata": {
        "id": "Ox4_7p-dBiT8"
      },
      "source": [
        "### e) Data Relevance\n",
        "\n",
        "The data provided was relevant to answering the research question."
      ]
    },
    {
      "cell_type": "markdown",
      "metadata": {
        "id": "C8P0JbeUBiT9"
      },
      "source": [
        "# <font color='#2F4F4F'>2. Data Cleaning & Preparation</font>"
      ]
    },
    {
      "cell_type": "code",
      "metadata": {
        "id": "7i0Z1TaoBiT-"
      },
      "source": [
        "# loading libraries\n",
        "import pandas as pd\n",
        "import numpy as np\n",
        "import matplotlib.pyplot as plt\n",
        "import seaborn as sns\n",
        "\n",
        "pd.set_option('display.max.columns', None)\n",
        "pd.set_option('display.max_colwidth', None)\n",
        "%matplotlib inline"
      ],
      "execution_count": 49,
      "outputs": []
    },
    {
      "cell_type": "code",
      "metadata": {
        "scrolled": true,
        "id": "hrt1AegqBiUD",
        "colab": {
          "base_uri": "https://localhost:8080/",
          "height": 174
        },
        "outputId": "87ddec79-0828-4de1-feb6-5f494a8c6db3"
      },
      "source": [
        "# loading and previewing dataset\n",
        "df = pd.read_csv('https://bit.ly/3p1QPAv)' , index_col=[0], parse_dates=[0])\n",
        "df.sample(3)"
      ],
      "execution_count": 50,
      "outputs": [
        {
          "output_type": "execute_result",
          "data": {
            "text/html": [
              "\n",
              "  <div id=\"df-84c82d93-ce4a-4c62-8318-5277ffa3bee0\">\n",
              "    <div class=\"colab-df-container\">\n",
              "      <div>\n",
              "<style scoped>\n",
              "    .dataframe tbody tr th:only-of-type {\n",
              "        vertical-align: middle;\n",
              "    }\n",
              "\n",
              "    .dataframe tbody tr th {\n",
              "        vertical-align: top;\n",
              "    }\n",
              "\n",
              "    .dataframe thead th {\n",
              "        text-align: right;\n",
              "    }\n",
              "</style>\n",
              "<table border=\"1\" class=\"dataframe\">\n",
              "  <thead>\n",
              "    <tr style=\"text-align: right;\">\n",
              "      <th></th>\n",
              "      <th>num_orders</th>\n",
              "    </tr>\n",
              "    <tr>\n",
              "      <th>datetime</th>\n",
              "      <th></th>\n",
              "    </tr>\n",
              "  </thead>\n",
              "  <tbody>\n",
              "    <tr>\n",
              "      <th>2018-08-14 23:50:00</th>\n",
              "      <td>53</td>\n",
              "    </tr>\n",
              "    <tr>\n",
              "      <th>2018-08-03 07:10:00</th>\n",
              "      <td>2</td>\n",
              "    </tr>\n",
              "    <tr>\n",
              "      <th>2018-07-02 21:10:00</th>\n",
              "      <td>26</td>\n",
              "    </tr>\n",
              "  </tbody>\n",
              "</table>\n",
              "</div>\n",
              "      <button class=\"colab-df-convert\" onclick=\"convertToInteractive('df-84c82d93-ce4a-4c62-8318-5277ffa3bee0')\"\n",
              "              title=\"Convert this dataframe to an interactive table.\"\n",
              "              style=\"display:none;\">\n",
              "        \n",
              "  <svg xmlns=\"http://www.w3.org/2000/svg\" height=\"24px\"viewBox=\"0 0 24 24\"\n",
              "       width=\"24px\">\n",
              "    <path d=\"M0 0h24v24H0V0z\" fill=\"none\"/>\n",
              "    <path d=\"M18.56 5.44l.94 2.06.94-2.06 2.06-.94-2.06-.94-.94-2.06-.94 2.06-2.06.94zm-11 1L8.5 8.5l.94-2.06 2.06-.94-2.06-.94L8.5 2.5l-.94 2.06-2.06.94zm10 10l.94 2.06.94-2.06 2.06-.94-2.06-.94-.94-2.06-.94 2.06-2.06.94z\"/><path d=\"M17.41 7.96l-1.37-1.37c-.4-.4-.92-.59-1.43-.59-.52 0-1.04.2-1.43.59L10.3 9.45l-7.72 7.72c-.78.78-.78 2.05 0 2.83L4 21.41c.39.39.9.59 1.41.59.51 0 1.02-.2 1.41-.59l7.78-7.78 2.81-2.81c.8-.78.8-2.07 0-2.86zM5.41 20L4 18.59l7.72-7.72 1.47 1.35L5.41 20z\"/>\n",
              "  </svg>\n",
              "      </button>\n",
              "      \n",
              "  <style>\n",
              "    .colab-df-container {\n",
              "      display:flex;\n",
              "      flex-wrap:wrap;\n",
              "      gap: 12px;\n",
              "    }\n",
              "\n",
              "    .colab-df-convert {\n",
              "      background-color: #E8F0FE;\n",
              "      border: none;\n",
              "      border-radius: 50%;\n",
              "      cursor: pointer;\n",
              "      display: none;\n",
              "      fill: #1967D2;\n",
              "      height: 32px;\n",
              "      padding: 0 0 0 0;\n",
              "      width: 32px;\n",
              "    }\n",
              "\n",
              "    .colab-df-convert:hover {\n",
              "      background-color: #E2EBFA;\n",
              "      box-shadow: 0px 1px 2px rgba(60, 64, 67, 0.3), 0px 1px 3px 1px rgba(60, 64, 67, 0.15);\n",
              "      fill: #174EA6;\n",
              "    }\n",
              "\n",
              "    [theme=dark] .colab-df-convert {\n",
              "      background-color: #3B4455;\n",
              "      fill: #D2E3FC;\n",
              "    }\n",
              "\n",
              "    [theme=dark] .colab-df-convert:hover {\n",
              "      background-color: #434B5C;\n",
              "      box-shadow: 0px 1px 3px 1px rgba(0, 0, 0, 0.15);\n",
              "      filter: drop-shadow(0px 1px 2px rgba(0, 0, 0, 0.3));\n",
              "      fill: #FFFFFF;\n",
              "    }\n",
              "  </style>\n",
              "\n",
              "      <script>\n",
              "        const buttonEl =\n",
              "          document.querySelector('#df-84c82d93-ce4a-4c62-8318-5277ffa3bee0 button.colab-df-convert');\n",
              "        buttonEl.style.display =\n",
              "          google.colab.kernel.accessAllowed ? 'block' : 'none';\n",
              "\n",
              "        async function convertToInteractive(key) {\n",
              "          const element = document.querySelector('#df-84c82d93-ce4a-4c62-8318-5277ffa3bee0');\n",
              "          const dataTable =\n",
              "            await google.colab.kernel.invokeFunction('convertToInteractive',\n",
              "                                                     [key], {});\n",
              "          if (!dataTable) return;\n",
              "\n",
              "          const docLinkHtml = 'Like what you see? Visit the ' +\n",
              "            '<a target=\"_blank\" href=https://colab.research.google.com/notebooks/data_table.ipynb>data table notebook</a>'\n",
              "            + ' to learn more about interactive tables.';\n",
              "          element.innerHTML = '';\n",
              "          dataTable['output_type'] = 'display_data';\n",
              "          await google.colab.output.renderOutput(dataTable, element);\n",
              "          const docLink = document.createElement('div');\n",
              "          docLink.innerHTML = docLinkHtml;\n",
              "          element.appendChild(docLink);\n",
              "        }\n",
              "      </script>\n",
              "    </div>\n",
              "  </div>\n",
              "  "
            ],
            "text/plain": [
              "                     num_orders\n",
              "datetime                       \n",
              "2018-08-14 23:50:00          53\n",
              "2018-08-03 07:10:00           2\n",
              "2018-07-02 21:10:00          26"
            ]
          },
          "metadata": {},
          "execution_count": 50
        }
      ]
    },
    {
      "cell_type": "code",
      "source": [
        "#split data and confirm model has not triggered a time machine\n",
        "from sklearn.model_selection import train_test_split\n",
        "\n",
        "df.sort_index(inplace=True)\n",
        "df = df.resample('1H').sum()\n",
        "\n",
        "train, test = train_test_split(df, shuffle=False, test_size=0.2)\n",
        "\n",
        "print(train.index.min(), train.index.max())\n",
        "print(test.index.min(), test.index.max())"
      ],
      "metadata": {
        "colab": {
          "base_uri": "https://localhost:8080/"
        },
        "id": "8D3pOTvldMB8",
        "outputId": "751ba05f-4f85-4836-ed93-2f7078a36cae"
      },
      "execution_count": 51,
      "outputs": [
        {
          "output_type": "stream",
          "name": "stdout",
          "text": [
            "2018-03-01 00:00:00 2018-07-26 03:00:00\n",
            "2018-07-26 04:00:00 2018-08-31 23:00:00\n"
          ]
        }
      ]
    },
    {
      "cell_type": "code",
      "source": [
        "#preview hourly data\n",
        "df.head()"
      ],
      "metadata": {
        "colab": {
          "base_uri": "https://localhost:8080/",
          "height": 237
        },
        "id": "UFeDZvI2dRRB",
        "outputId": "2151722e-2cb1-4c94-87ff-384b5bc68e03"
      },
      "execution_count": 52,
      "outputs": [
        {
          "output_type": "execute_result",
          "data": {
            "text/html": [
              "\n",
              "  <div id=\"df-edbd5a55-59a9-4c04-9e8c-e6dc5eeb1786\">\n",
              "    <div class=\"colab-df-container\">\n",
              "      <div>\n",
              "<style scoped>\n",
              "    .dataframe tbody tr th:only-of-type {\n",
              "        vertical-align: middle;\n",
              "    }\n",
              "\n",
              "    .dataframe tbody tr th {\n",
              "        vertical-align: top;\n",
              "    }\n",
              "\n",
              "    .dataframe thead th {\n",
              "        text-align: right;\n",
              "    }\n",
              "</style>\n",
              "<table border=\"1\" class=\"dataframe\">\n",
              "  <thead>\n",
              "    <tr style=\"text-align: right;\">\n",
              "      <th></th>\n",
              "      <th>num_orders</th>\n",
              "    </tr>\n",
              "    <tr>\n",
              "      <th>datetime</th>\n",
              "      <th></th>\n",
              "    </tr>\n",
              "  </thead>\n",
              "  <tbody>\n",
              "    <tr>\n",
              "      <th>2018-03-01 00:00:00</th>\n",
              "      <td>124</td>\n",
              "    </tr>\n",
              "    <tr>\n",
              "      <th>2018-03-01 01:00:00</th>\n",
              "      <td>85</td>\n",
              "    </tr>\n",
              "    <tr>\n",
              "      <th>2018-03-01 02:00:00</th>\n",
              "      <td>71</td>\n",
              "    </tr>\n",
              "    <tr>\n",
              "      <th>2018-03-01 03:00:00</th>\n",
              "      <td>66</td>\n",
              "    </tr>\n",
              "    <tr>\n",
              "      <th>2018-03-01 04:00:00</th>\n",
              "      <td>43</td>\n",
              "    </tr>\n",
              "  </tbody>\n",
              "</table>\n",
              "</div>\n",
              "      <button class=\"colab-df-convert\" onclick=\"convertToInteractive('df-edbd5a55-59a9-4c04-9e8c-e6dc5eeb1786')\"\n",
              "              title=\"Convert this dataframe to an interactive table.\"\n",
              "              style=\"display:none;\">\n",
              "        \n",
              "  <svg xmlns=\"http://www.w3.org/2000/svg\" height=\"24px\"viewBox=\"0 0 24 24\"\n",
              "       width=\"24px\">\n",
              "    <path d=\"M0 0h24v24H0V0z\" fill=\"none\"/>\n",
              "    <path d=\"M18.56 5.44l.94 2.06.94-2.06 2.06-.94-2.06-.94-.94-2.06-.94 2.06-2.06.94zm-11 1L8.5 8.5l.94-2.06 2.06-.94-2.06-.94L8.5 2.5l-.94 2.06-2.06.94zm10 10l.94 2.06.94-2.06 2.06-.94-2.06-.94-.94-2.06-.94 2.06-2.06.94z\"/><path d=\"M17.41 7.96l-1.37-1.37c-.4-.4-.92-.59-1.43-.59-.52 0-1.04.2-1.43.59L10.3 9.45l-7.72 7.72c-.78.78-.78 2.05 0 2.83L4 21.41c.39.39.9.59 1.41.59.51 0 1.02-.2 1.41-.59l7.78-7.78 2.81-2.81c.8-.78.8-2.07 0-2.86zM5.41 20L4 18.59l7.72-7.72 1.47 1.35L5.41 20z\"/>\n",
              "  </svg>\n",
              "      </button>\n",
              "      \n",
              "  <style>\n",
              "    .colab-df-container {\n",
              "      display:flex;\n",
              "      flex-wrap:wrap;\n",
              "      gap: 12px;\n",
              "    }\n",
              "\n",
              "    .colab-df-convert {\n",
              "      background-color: #E8F0FE;\n",
              "      border: none;\n",
              "      border-radius: 50%;\n",
              "      cursor: pointer;\n",
              "      display: none;\n",
              "      fill: #1967D2;\n",
              "      height: 32px;\n",
              "      padding: 0 0 0 0;\n",
              "      width: 32px;\n",
              "    }\n",
              "\n",
              "    .colab-df-convert:hover {\n",
              "      background-color: #E2EBFA;\n",
              "      box-shadow: 0px 1px 2px rgba(60, 64, 67, 0.3), 0px 1px 3px 1px rgba(60, 64, 67, 0.15);\n",
              "      fill: #174EA6;\n",
              "    }\n",
              "\n",
              "    [theme=dark] .colab-df-convert {\n",
              "      background-color: #3B4455;\n",
              "      fill: #D2E3FC;\n",
              "    }\n",
              "\n",
              "    [theme=dark] .colab-df-convert:hover {\n",
              "      background-color: #434B5C;\n",
              "      box-shadow: 0px 1px 3px 1px rgba(0, 0, 0, 0.15);\n",
              "      filter: drop-shadow(0px 1px 2px rgba(0, 0, 0, 0.3));\n",
              "      fill: #FFFFFF;\n",
              "    }\n",
              "  </style>\n",
              "\n",
              "      <script>\n",
              "        const buttonEl =\n",
              "          document.querySelector('#df-edbd5a55-59a9-4c04-9e8c-e6dc5eeb1786 button.colab-df-convert');\n",
              "        buttonEl.style.display =\n",
              "          google.colab.kernel.accessAllowed ? 'block' : 'none';\n",
              "\n",
              "        async function convertToInteractive(key) {\n",
              "          const element = document.querySelector('#df-edbd5a55-59a9-4c04-9e8c-e6dc5eeb1786');\n",
              "          const dataTable =\n",
              "            await google.colab.kernel.invokeFunction('convertToInteractive',\n",
              "                                                     [key], {});\n",
              "          if (!dataTable) return;\n",
              "\n",
              "          const docLinkHtml = 'Like what you see? Visit the ' +\n",
              "            '<a target=\"_blank\" href=https://colab.research.google.com/notebooks/data_table.ipynb>data table notebook</a>'\n",
              "            + ' to learn more about interactive tables.';\n",
              "          element.innerHTML = '';\n",
              "          dataTable['output_type'] = 'display_data';\n",
              "          await google.colab.output.renderOutput(dataTable, element);\n",
              "          const docLink = document.createElement('div');\n",
              "          docLink.innerHTML = docLinkHtml;\n",
              "          element.appendChild(docLink);\n",
              "        }\n",
              "      </script>\n",
              "    </div>\n",
              "  </div>\n",
              "  "
            ],
            "text/plain": [
              "                     num_orders\n",
              "datetime                       \n",
              "2018-03-01 00:00:00         124\n",
              "2018-03-01 01:00:00          85\n",
              "2018-03-01 02:00:00          71\n",
              "2018-03-01 03:00:00          66\n",
              "2018-03-01 04:00:00          43"
            ]
          },
          "metadata": {},
          "execution_count": 52
        }
      ]
    },
    {
      "cell_type": "code",
      "source": [
        "df.describe()"
      ],
      "metadata": {
        "colab": {
          "base_uri": "https://localhost:8080/",
          "height": 300
        },
        "id": "EFWgXcUVmW5Y",
        "outputId": "a5659e34-5943-4321-f168-4a1935c1c28d"
      },
      "execution_count": 37,
      "outputs": [
        {
          "output_type": "execute_result",
          "data": {
            "text/html": [
              "\n",
              "  <div id=\"df-4e88f017-0713-4a76-8599-300f09e6a43a\">\n",
              "    <div class=\"colab-df-container\">\n",
              "      <div>\n",
              "<style scoped>\n",
              "    .dataframe tbody tr th:only-of-type {\n",
              "        vertical-align: middle;\n",
              "    }\n",
              "\n",
              "    .dataframe tbody tr th {\n",
              "        vertical-align: top;\n",
              "    }\n",
              "\n",
              "    .dataframe thead th {\n",
              "        text-align: right;\n",
              "    }\n",
              "</style>\n",
              "<table border=\"1\" class=\"dataframe\">\n",
              "  <thead>\n",
              "    <tr style=\"text-align: right;\">\n",
              "      <th></th>\n",
              "      <th>num_orders</th>\n",
              "      <th>year</th>\n",
              "      <th>month</th>\n",
              "      <th>day</th>\n",
              "      <th>dayofweek</th>\n",
              "      <th>Hour</th>\n",
              "      <th>lag_1</th>\n",
              "      <th>rolling_mean</th>\n",
              "    </tr>\n",
              "  </thead>\n",
              "  <tbody>\n",
              "    <tr>\n",
              "      <th>count</th>\n",
              "      <td>4416.000000</td>\n",
              "      <td>4416.0</td>\n",
              "      <td>4416.000000</td>\n",
              "      <td>4416.000000</td>\n",
              "      <td>4416.000000</td>\n",
              "      <td>4416.00000</td>\n",
              "      <td>4415.000000</td>\n",
              "      <td>4415.000000</td>\n",
              "    </tr>\n",
              "    <tr>\n",
              "      <th>mean</th>\n",
              "      <td>84.422781</td>\n",
              "      <td>2018.0</td>\n",
              "      <td>5.505435</td>\n",
              "      <td>15.836957</td>\n",
              "      <td>3.005435</td>\n",
              "      <td>11.50000</td>\n",
              "      <td>84.395470</td>\n",
              "      <td>84.395470</td>\n",
              "    </tr>\n",
              "    <tr>\n",
              "      <th>std</th>\n",
              "      <td>45.023853</td>\n",
              "      <td>0.0</td>\n",
              "      <td>1.713306</td>\n",
              "      <td>8.855229</td>\n",
              "      <td>1.990684</td>\n",
              "      <td>6.92297</td>\n",
              "      <td>44.992356</td>\n",
              "      <td>44.992356</td>\n",
              "    </tr>\n",
              "    <tr>\n",
              "      <th>min</th>\n",
              "      <td>0.000000</td>\n",
              "      <td>2018.0</td>\n",
              "      <td>3.000000</td>\n",
              "      <td>1.000000</td>\n",
              "      <td>0.000000</td>\n",
              "      <td>0.00000</td>\n",
              "      <td>0.000000</td>\n",
              "      <td>0.000000</td>\n",
              "    </tr>\n",
              "    <tr>\n",
              "      <th>25%</th>\n",
              "      <td>54.000000</td>\n",
              "      <td>2018.0</td>\n",
              "      <td>4.000000</td>\n",
              "      <td>8.000000</td>\n",
              "      <td>1.000000</td>\n",
              "      <td>5.75000</td>\n",
              "      <td>54.000000</td>\n",
              "      <td>54.000000</td>\n",
              "    </tr>\n",
              "    <tr>\n",
              "      <th>50%</th>\n",
              "      <td>78.000000</td>\n",
              "      <td>2018.0</td>\n",
              "      <td>5.500000</td>\n",
              "      <td>16.000000</td>\n",
              "      <td>3.000000</td>\n",
              "      <td>11.50000</td>\n",
              "      <td>78.000000</td>\n",
              "      <td>78.000000</td>\n",
              "    </tr>\n",
              "    <tr>\n",
              "      <th>75%</th>\n",
              "      <td>107.000000</td>\n",
              "      <td>2018.0</td>\n",
              "      <td>7.000000</td>\n",
              "      <td>23.250000</td>\n",
              "      <td>5.000000</td>\n",
              "      <td>17.25000</td>\n",
              "      <td>107.000000</td>\n",
              "      <td>107.000000</td>\n",
              "    </tr>\n",
              "    <tr>\n",
              "      <th>max</th>\n",
              "      <td>462.000000</td>\n",
              "      <td>2018.0</td>\n",
              "      <td>8.000000</td>\n",
              "      <td>31.000000</td>\n",
              "      <td>6.000000</td>\n",
              "      <td>23.00000</td>\n",
              "      <td>462.000000</td>\n",
              "      <td>462.000000</td>\n",
              "    </tr>\n",
              "  </tbody>\n",
              "</table>\n",
              "</div>\n",
              "      <button class=\"colab-df-convert\" onclick=\"convertToInteractive('df-4e88f017-0713-4a76-8599-300f09e6a43a')\"\n",
              "              title=\"Convert this dataframe to an interactive table.\"\n",
              "              style=\"display:none;\">\n",
              "        \n",
              "  <svg xmlns=\"http://www.w3.org/2000/svg\" height=\"24px\"viewBox=\"0 0 24 24\"\n",
              "       width=\"24px\">\n",
              "    <path d=\"M0 0h24v24H0V0z\" fill=\"none\"/>\n",
              "    <path d=\"M18.56 5.44l.94 2.06.94-2.06 2.06-.94-2.06-.94-.94-2.06-.94 2.06-2.06.94zm-11 1L8.5 8.5l.94-2.06 2.06-.94-2.06-.94L8.5 2.5l-.94 2.06-2.06.94zm10 10l.94 2.06.94-2.06 2.06-.94-2.06-.94-.94-2.06-.94 2.06-2.06.94z\"/><path d=\"M17.41 7.96l-1.37-1.37c-.4-.4-.92-.59-1.43-.59-.52 0-1.04.2-1.43.59L10.3 9.45l-7.72 7.72c-.78.78-.78 2.05 0 2.83L4 21.41c.39.39.9.59 1.41.59.51 0 1.02-.2 1.41-.59l7.78-7.78 2.81-2.81c.8-.78.8-2.07 0-2.86zM5.41 20L4 18.59l7.72-7.72 1.47 1.35L5.41 20z\"/>\n",
              "  </svg>\n",
              "      </button>\n",
              "      \n",
              "  <style>\n",
              "    .colab-df-container {\n",
              "      display:flex;\n",
              "      flex-wrap:wrap;\n",
              "      gap: 12px;\n",
              "    }\n",
              "\n",
              "    .colab-df-convert {\n",
              "      background-color: #E8F0FE;\n",
              "      border: none;\n",
              "      border-radius: 50%;\n",
              "      cursor: pointer;\n",
              "      display: none;\n",
              "      fill: #1967D2;\n",
              "      height: 32px;\n",
              "      padding: 0 0 0 0;\n",
              "      width: 32px;\n",
              "    }\n",
              "\n",
              "    .colab-df-convert:hover {\n",
              "      background-color: #E2EBFA;\n",
              "      box-shadow: 0px 1px 2px rgba(60, 64, 67, 0.3), 0px 1px 3px 1px rgba(60, 64, 67, 0.15);\n",
              "      fill: #174EA6;\n",
              "    }\n",
              "\n",
              "    [theme=dark] .colab-df-convert {\n",
              "      background-color: #3B4455;\n",
              "      fill: #D2E3FC;\n",
              "    }\n",
              "\n",
              "    [theme=dark] .colab-df-convert:hover {\n",
              "      background-color: #434B5C;\n",
              "      box-shadow: 0px 1px 3px 1px rgba(0, 0, 0, 0.15);\n",
              "      filter: drop-shadow(0px 1px 2px rgba(0, 0, 0, 0.3));\n",
              "      fill: #FFFFFF;\n",
              "    }\n",
              "  </style>\n",
              "\n",
              "      <script>\n",
              "        const buttonEl =\n",
              "          document.querySelector('#df-4e88f017-0713-4a76-8599-300f09e6a43a button.colab-df-convert');\n",
              "        buttonEl.style.display =\n",
              "          google.colab.kernel.accessAllowed ? 'block' : 'none';\n",
              "\n",
              "        async function convertToInteractive(key) {\n",
              "          const element = document.querySelector('#df-4e88f017-0713-4a76-8599-300f09e6a43a');\n",
              "          const dataTable =\n",
              "            await google.colab.kernel.invokeFunction('convertToInteractive',\n",
              "                                                     [key], {});\n",
              "          if (!dataTable) return;\n",
              "\n",
              "          const docLinkHtml = 'Like what you see? Visit the ' +\n",
              "            '<a target=\"_blank\" href=https://colab.research.google.com/notebooks/data_table.ipynb>data table notebook</a>'\n",
              "            + ' to learn more about interactive tables.';\n",
              "          element.innerHTML = '';\n",
              "          dataTable['output_type'] = 'display_data';\n",
              "          await google.colab.output.renderOutput(dataTable, element);\n",
              "          const docLink = document.createElement('div');\n",
              "          docLink.innerHTML = docLinkHtml;\n",
              "          element.appendChild(docLink);\n",
              "        }\n",
              "      </script>\n",
              "    </div>\n",
              "  </div>\n",
              "  "
            ],
            "text/plain": [
              "        num_orders    year        month          day    dayofweek        Hour  \\\n",
              "count  4416.000000  4416.0  4416.000000  4416.000000  4416.000000  4416.00000   \n",
              "mean     84.422781  2018.0     5.505435    15.836957     3.005435    11.50000   \n",
              "std      45.023853     0.0     1.713306     8.855229     1.990684     6.92297   \n",
              "min       0.000000  2018.0     3.000000     1.000000     0.000000     0.00000   \n",
              "25%      54.000000  2018.0     4.000000     8.000000     1.000000     5.75000   \n",
              "50%      78.000000  2018.0     5.500000    16.000000     3.000000    11.50000   \n",
              "75%     107.000000  2018.0     7.000000    23.250000     5.000000    17.25000   \n",
              "max     462.000000  2018.0     8.000000    31.000000     6.000000    23.00000   \n",
              "\n",
              "             lag_1  rolling_mean  \n",
              "count  4415.000000   4415.000000  \n",
              "mean     84.395470     84.395470  \n",
              "std      44.992356     44.992356  \n",
              "min       0.000000      0.000000  \n",
              "25%      54.000000     54.000000  \n",
              "50%      78.000000     78.000000  \n",
              "75%     107.000000    107.000000  \n",
              "max     462.000000    462.000000  "
            ]
          },
          "metadata": {},
          "execution_count": 37
        }
      ]
    },
    {
      "cell_type": "markdown",
      "source": [
        "# <font color='#2F4F4F'>3. Data Analysis</font>"
      ],
      "metadata": {
        "id": "gNcz-iRnoo04"
      }
    },
    {
      "cell_type": "code",
      "source": [
        "#plot trends and seasonality\n",
        "from statsmodels.tsa.seasonal import seasonal_decompose\n",
        "decomposed = seasonal_decompose(df)\n",
        "\n",
        "plt.figure(figsize=(8, 8))\n",
        "\n",
        "plt.subplot(311)\n",
        "decomposed.trend.plot(ax=plt.gca())\n",
        "plt.title('Trend')\n",
        "plt.subplot(312)\n",
        "decomposed.seasonal.plot(ax=plt.gca())\n",
        "plt.title('Seasonality')\n",
        "plt.subplot(313)\n",
        "decomposed.resid.plot(ax=plt.gca())\n",
        "plt.title('Residuals')\n",
        "\n",
        "\n",
        "\n",
        "plt.tight_layout() "
      ],
      "metadata": {
        "colab": {
          "base_uri": "https://localhost:8080/",
          "height": 585
        },
        "id": "O_7bP5lym2kz",
        "outputId": "48d8c2bb-2762-4d82-d517-dbd050138dca"
      },
      "execution_count": 53,
      "outputs": [
        {
          "output_type": "display_data",
          "data": {
            "image/png": "[encoded data removed]",
            "text/plain": [
              "<Figure size 576x576 with 3 Axes>"
            ]
          },
          "metadata": {
            "needs_background": "light"
          }
        }
      ]
    },
    {
      "cell_type": "code",
      "source": [
        "#getting distribution of orders\n",
        "\n",
        "import warnings\n",
        "warnings.filterwarnings('ignore')\n",
        "\n",
        "plt.figure(figsize = (10,4))\n",
        "sns.distplot(df['num_orders'])\n",
        "plt.show()"
      ],
      "metadata": {
        "colab": {
          "base_uri": "https://localhost:8080/",
          "height": 280
        },
        "id": "cLDH4IECrJJR",
        "outputId": "9eaf5f2b-e2fc-44e6-cd88-415effc54c11"
      },
      "execution_count": 57,
      "outputs": [
        {
          "output_type": "display_data",
          "data": {
            "image/png": "[encoded data removed]",
            "text/plain": [
              "<Figure size 720x288 with 1 Axes>"
            ]
          },
          "metadata": {
            "needs_background": "light"
          }
        }
      ]
    },
    {
      "cell_type": "code",
      "source": [
        "#plot orders by DayofWeek\n",
        "df.hist('num_orders', by = 'dayofweek', rot = 0, figsize = (10, 6))\n",
        "plt.show()"
      ],
      "metadata": {
        "colab": {
          "base_uri": "https://localhost:8080/",
          "height": 388
        },
        "id": "pLUVftfcrmVg",
        "outputId": "36bcc6c0-1389-4dea-e4d2-319afb9ff9a4"
      },
      "execution_count": 60,
      "outputs": [
        {
          "output_type": "display_data",
          "data": {
            "image/png": "[encoded data removed]",
            "text/plain": [
              "<Figure size 720x432 with 9 Axes>"
            ]
          },
          "metadata": {
            "needs_background": "light"
          }
        }
      ]
    },
    {
      "cell_type": "markdown",
      "metadata": {
        "id": "UFT-K1wQBiU5"
      },
      "source": [
        "# <font color='#2F4F4F'>4. Creating Features and Modelling</font>"
      ]
    },
    {
      "cell_type": "code",
      "metadata": {
        "id": "hMJPsYX_BiU6",
        "colab": {
          "base_uri": "https://localhost:8080/"
        },
        "outputId": "0c34dc27-08cd-440d-ec5b-f1775fcddd37"
      },
      "source": [
        "#create a function to make features\n",
        "def define_features(df,max_lag,rolling_mean_size):\n",
        "    df['year'] = df.index.year\n",
        "    df['month'] = df.index.month\n",
        "    df['day'] = df.index.day\n",
        "    df['dayofweek'] = df.index.dayofweek\n",
        "    df['Hour'] = df.index.hour\n",
        "\n",
        "    for lag in range(1, max_lag + 1):\n",
        "        df['lag_{}'.format(lag)] = df['num_orders'].shift(lag)\n",
        "\n",
        "    df['rolling_mean'] = (\n",
        "        df['num_orders'].shift().rolling(rolling_mean_size).mean()\n",
        "    )\n",
        "\n",
        "\n",
        "define_features(df, 1, 1)\n",
        "print(df)"
      ],
      "execution_count": 54,
      "outputs": [
        {
          "output_type": "stream",
          "name": "stdout",
          "text": [
            "                     num_orders  year  month  day  dayofweek  Hour  lag_1  \\\n",
            "datetime                                                                    \n",
            "2018-03-01 00:00:00         124  2018      3    1          3     0    NaN   \n",
            "2018-03-01 01:00:00          85  2018      3    1          3     1  124.0   \n",
            "2018-03-01 02:00:00          71  2018      3    1          3     2   85.0   \n",
            "2018-03-01 03:00:00          66  2018      3    1          3     3   71.0   \n",
            "2018-03-01 04:00:00          43  2018      3    1          3     4   66.0   \n",
            "...                         ...   ...    ...  ...        ...   ...    ...   \n",
            "2018-08-31 19:00:00         136  2018      8   31          4    19  207.0   \n",
            "2018-08-31 20:00:00         154  2018      8   31          4    20  136.0   \n",
            "2018-08-31 21:00:00         159  2018      8   31          4    21  154.0   \n",
            "2018-08-31 22:00:00         223  2018      8   31          4    22  159.0   \n",
            "2018-08-31 23:00:00         205  2018      8   31          4    23  223.0   \n",
            "\n",
            "                     rolling_mean  \n",
            "datetime                           \n",
            "2018-03-01 00:00:00           NaN  \n",
            "2018-03-01 01:00:00         124.0  \n",
            "2018-03-01 02:00:00          85.0  \n",
            "2018-03-01 03:00:00          71.0  \n",
            "2018-03-01 04:00:00          66.0  \n",
            "...                           ...  \n",
            "2018-08-31 19:00:00         207.0  \n",
            "2018-08-31 20:00:00         136.0  \n",
            "2018-08-31 21:00:00         154.0  \n",
            "2018-08-31 22:00:00         159.0  \n",
            "2018-08-31 23:00:00         223.0  \n",
            "\n",
            "[4416 rows x 8 columns]\n"
          ]
        }
      ]
    },
    {
      "cell_type": "code",
      "metadata": {
        "id": "KLmzCtedBiVE",
        "colab": {
          "base_uri": "https://localhost:8080/"
        },
        "outputId": "3be57cb6-495a-4de8-b626-0154f6f9d846"
      },
      "source": [
        "# split data and model\n",
        "\n",
        "from sklearn.linear_model import LinearRegression\n",
        "from sklearn.metrics import mean_squared_error\n",
        "\n",
        "#split into test and train\n",
        "train, test = train_test_split(df, shuffle=False, test_size=0.2)\n",
        "train = train.dropna()\n",
        "\n",
        "features_train = train.drop(['num_orders'], axis=1)\n",
        "target_train = train['num_orders']\n",
        "features_test = test.drop(['num_orders'], axis=1)\n",
        "target_test = test['num_orders']\n",
        "\n",
        "model = LinearRegression()\n",
        "#fit model\n",
        "model.fit(features_train, target_train)\n",
        "\n",
        "#predict\n",
        "y_pred = model.predict(features_test)\n",
        "\n",
        "#evaluate model\n",
        "print('RMSE:', np.sqrt(mean_squared_error(target_test, y_pred)))\n"
      ],
      "execution_count": 55,
      "outputs": [
        {
          "output_type": "stream",
          "name": "stdout",
          "text": [
            "RMSE: 47.639467087717875\n"
          ]
        }
      ]
    },
    {
      "cell_type": "markdown",
      "metadata": {
        "id": "YFoZdpZaBiWX"
      },
      "source": [
        "# <font color='#2F4F4F'>5. Summary of Findings</font>\n",
        "\n",
        "\n",
        "\n",
        "\n",
        "The linear Regression Model performed quite well with a RMSE value of less than 48.\n",
        "\n",
        "\n"
      ]
    },
    {
      "cell_type": "markdown",
      "metadata": {
        "id": "8l8X81g0BiWY"
      },
      "source": [
        "# <font color='#2F4F4F'>6. Recommendations</font>\n",
        "\n",
        "Model can be further improved by iterating on more feature selection"
      ]
    },
    {
      "cell_type": "markdown",
      "metadata": {
        "id": "YQD7_7o8BiWZ"
      },
      "source": [
        "# <font color='#2F4F4F'>7. Challenging your Solution</font>\n",
        "\n",
        "### a) Did we have the right question?\n",
        "Yes, we had the right question\n",
        "\n",
        "### b) Did we have the right data?\n",
        "Yes, the data we had was relevant in answering the research question\n",
        "\n",
        "### c) What can be done to improve the solution?\n",
        "Get more data\n",
        "\n",
        "Create more features/feature engineering\n",
        "\n",
        "Perform hyperparameter tuning to improve model accuracy\n",
        "\n"
      ]
    }
  ]
}